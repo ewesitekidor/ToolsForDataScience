{
 "cells": [
  {
   "cell_type": "markdown",
   "id": "f83f7611-aa5e-4ec0-8926-36eb54a8a8f8",
   "metadata": {},
   "source": [
    "# Data Science Tools and Ecosystem"
   ]
  },
  {
   "cell_type": "markdown",
   "id": "d442b108-63df-4880-a43f-5a07c753eb53",
   "metadata": {},
   "source": [
    "# In this notebook introduction\n",
    "- Data Science Tools and Ecosystem are summarized."
   ]
  },
  {
   "cell_type": "markdown",
   "id": "7f7ef322-aa43-4c80-8e6e-d0ce4b6f6569",
   "metadata": {},
   "source": [
    "# some of the popular languages that data scientist use are:\n",
    "1. Python for data analysis and machine learning.\n",
    "2. SQL Structured Query Language for Databasese manipulation.\n",
    "3. R Programming for statistical computation."
   ]
  },
  {
   "cell_type": "markdown",
   "id": "d99c711e-66b8-4ee1-bd7d-37ef6737a2ae",
   "metadata": {},
   "source": [
    "# Some of the commonly used libraries used by Data Scientist include:\n",
    "1. The Numpy focuses on mathematical capabilities.  \n",
    "2.  Matplotlib is used for data visualization.  \n",
    "3.  Pandas allows you to conduct data analysis, manipulation, and cleansing on your dataset.  \n",
    "4.  Scipy for data optimation and integration.  \n",
    "5. PyTorch for machine learning and advanced models.  \n",
    "6.  Seaborn is used also for data visualization for Python."
   ]
  },
  {
   "cell_type": "markdown",
   "id": "1e6cf695-f459-4d37-a7fe-0fb1d4921b37",
   "metadata": {},
   "source": [
    "# Table of Data Science tools\n",
    "|Data Science Tools|\n",
    "|------------------|\n",
    "|Python            |\n",
    "|R programming     |\n",
    "|Jupyter Notebook  |\n"
   ]
  },
  {
   "cell_type": "markdown",
   "id": "b15eed12-0cae-4324-bdd9-a267d1751496",
   "metadata": {},
   "source": [
    "# Introducing Arithmetic expressions\n",
    "### Below are a few examples of evaluating arithmetic expressions in Python.\n",
    " + Addition(+)\n",
    " - Subtraction(-)\n",
    " * Multiplication(*)\n",
    " / division(/)"
   ]
  },
  {
   "cell_type": "code",
   "execution_count": 12,
   "id": "d632a6e5-c373-46a5-8a7f-b6e0998b4bc9",
   "metadata": {},
   "outputs": [
    {
     "data": {
      "text/plain": [
       "17"
      ]
     },
     "execution_count": 12,
     "metadata": {},
     "output_type": "execute_result"
    }
   ],
   "source": [
    "# This is a simple arithmetic expression to multiply and then add integers\n",
    "(3*4)+5"
   ]
  },
  {
   "cell_type": "code",
   "execution_count": 16,
   "id": "b3ff36ca-d5a9-4b7a-9461-978de51b8aa9",
   "metadata": {},
   "outputs": [
    {
     "data": {
      "text/plain": [
       "3.3333333333333335"
      ]
     },
     "execution_count": 16,
     "metadata": {},
     "output_type": "execute_result"
    }
   ],
   "source": [
    "# This will convert 200 minutes to hours by diving by 60\n",
    "(200/60)"
   ]
  },
  {
   "cell_type": "markdown",
   "id": "6ff0be76-e02b-4410-be18-b16bc2106b58",
   "metadata": {},
   "source": [
    "**Objectives**\n",
    "# List Popular languages for data science.\n",
    "- R programming.\n",
    "- Python.\n",
    "- Julia.\n",
    "- Jupyter Notebook.\n",
    "- Matplotlib.\n",
    "\n"
   ]
  },
  {
   "cell_type": "markdown",
   "id": "2fcd95de-9fd7-4722-8d70-03a5750d8b4f",
   "metadata": {},
   "source": [
    "## Author\n",
    "\n",
    "Ewesit Ekidor"
   ]
  }
 ],
 "metadata": {
  "kernelspec": {
   "display_name": "Python 3 (ipykernel)",
   "language": "python",
   "name": "python3"
  },
  "language_info": {
   "codemirror_mode": {
    "name": "ipython",
    "version": 3
   },
   "file_extension": ".py",
   "mimetype": "text/x-python",
   "name": "python",
   "nbconvert_exporter": "python",
   "pygments_lexer": "ipython3",
   "version": "3.12.4"
  }
 },
 "nbformat": 4,
 "nbformat_minor": 5
}
